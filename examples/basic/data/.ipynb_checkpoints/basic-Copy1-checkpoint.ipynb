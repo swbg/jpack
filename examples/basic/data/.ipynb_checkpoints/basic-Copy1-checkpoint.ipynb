{
 "cells": [
  {
   "cell_type": "code",
   "execution_count": 1,
   "metadata": {},
   "outputs": [],
   "source": [
    "import numpy as np\n",
    "import matplotlib.pyplot as plt\n",
    "\n",
    "from ipywidgets import HBox, VBox, IntSlider, interactive_output, Output\n",
    "from IPython.display import display, clear_output"
   ]
  },
  {
   "cell_type": "raw",
   "metadata": {},
   "source": [
    "def interactive_output(f, controls):\n",
    "    \"\"\"Connect widget controls to a function.\n",
    "    This function does not generate a user interface for the widgets (unlike `interact`).\n",
    "    This enables customisation of the widget user interface layout.\n",
    "    The user interface layout must be defined and displayed manually.\n",
    "    \"\"\"\n",
    "\n",
    "    out = Output()\n",
    "    def observer(change):\n",
    "        kwargs = {k:v.value for k,v in controls.items()}\n",
    "        show_inline_matplotlib_plots()\n",
    "        with out:\n",
    "            clear_output(wait=True)\n",
    "            f(**kwargs)\n",
    "            show_inline_matplotlib_plots()\n",
    "    for k,w in controls.items():\n",
    "        w.observe(observer, 'value')\n",
    "    show_inline_matplotlib_plots()\n",
    "    observer(None)\n",
    "    return out"
   ]
  },
  {
   "cell_type": "code",
   "execution_count": 3,
   "metadata": {},
   "outputs": [
    {
     "data": {
      "application/vnd.jupyter.widget-view+json": {
       "model_id": "2cbb6e2a14e04842b1eab34ddbae4dd0",
       "version_major": 2,
       "version_minor": 0
      },
      "text/plain": [
       "HBox(children=(VBox(children=(IntSlider(value=0, continuous_update=False), IntSlider(value=0, continuous_updat…"
      ]
     },
     "metadata": {},
     "output_type": "display_data"
    }
   ],
   "source": [
    "xs = np.arange(-4, 4.1, 0.1)\n",
    "\n",
    "a_widget = IntSlider(continuous_update=False)\n",
    "b_widget = IntSlider(continuous_update=False)\n",
    "\n",
    "def update(a, b):\n",
    "    clear_output(wait=True)\n",
    "    fig, ax = plt.subplots()\n",
    "    ax.plot(xs, [a*x**2 + b*x for x in xs])\n",
    "    # display(fig)\n",
    "\n",
    "out = interactive_output(update, {'a': a_widget, 'b': b_widget})\n",
    "\n",
    "display(HBox([VBox([a_widget, b_widget]), out]))"
   ]
  },
  {
   "cell_type": "raw",
   "metadata": {},
   "source": [
    "xs = np.arange(-4, 4.1, 0.1)\n",
    "\n",
    "a_widget = IntSlider(continuous_update=False)\n",
    "b_widget = IntSlider(continuous_update=False)\n",
    "o_widget = Output()\n",
    "\n",
    "def update(a, b):\n",
    "    with o_widget:\n",
    "        clear_output(wait=True)\n",
    "        fig, ax = plt.subplots()\n",
    "        ax.plot(xs, [a*x**2 + b*x for x in xs])\n",
    "        display(fig)\n",
    "\n",
    "_ = interactive_output(update, {'a': a_widget, 'b': b_widget})\n",
    "\n",
    "# a_widget.observe(update, names='value')\n",
    "# b_widget.observe(update, names='value')\n",
    "\n",
    "display(HBox([VBox([a_widget, b_widget]), o_widget]))"
   ]
  },
  {
   "cell_type": "raw",
   "metadata": {},
   "source": [
    "a_widget = IntSlider(continuous_update=False)\n",
    "b_widget = IntSlider(continuous_update=False)\n",
    "o_widget = Output()\n",
    "\n",
    "def f(a, b):\n",
    "    with o_widget:\n",
    "        fig, ax = plt.subplots()\n",
    "        ax.plot(np.arange(4) + a, np.arange(4) - b)\n",
    "        clear_output(wait=True)\n",
    "        display(fig)\n",
    "\n",
    "out = interactive_output(f, { \"a\": a_widget, \"b\": b_widget})\n",
    "\n",
    "a_widget.observe(update, names='value')\n",
    "\n",
    "display(HBox([VBox([a_widget, b_widget]), o_widget]))"
   ]
  },
  {
   "cell_type": "raw",
   "metadata": {},
   "source": [
    "a = IntSlider(continuous_update=False)\n",
    "b = IntSlider(continuous_update=False)\n",
    "\n",
    "output = Output()\n",
    "\n",
    "def f(a, b):\n",
    "    clear_output(wait=True)\n",
    "    with output:\n",
    "        fig, ax = plt.subplots()\n",
    "        ax.plot(np.arange(4) + a, np.arange(4) - b)\n",
    "        clear_output(wait=True)\n",
    "        display(fig)\n",
    "\n",
    "out = interactive_output(f, { \"a\": a, \"b\": b})\n",
    "\n",
    "display(HBox([VBox([a, b]), out]))"
   ]
  },
  {
   "cell_type": "code",
   "execution_count": null,
   "metadata": {},
   "outputs": [],
   "source": []
  },
  {
   "cell_type": "code",
   "execution_count": null,
   "metadata": {},
   "outputs": [],
   "source": []
  },
  {
   "cell_type": "raw",
   "metadata": {},
   "source": [
    "a = IntSlider(continuous_update=False)\n",
    "b = IntSlider(continuous_update=False)\n",
    "\n",
    "output = Output()\n",
    "\n",
    "def f(a, b):\n",
    "    with output:\n",
    "        fig, ax = plt.subplots()\n",
    "        ax.plot(np.arange(4) + a, np.arange(4) - b)\n",
    "        clear_output()\n",
    "        display(fig)\n",
    "\n",
    "out = interactive_output(f, { \"a\": a, \"b\": b})\n",
    "\n",
    "display(HBox([VBox([a, b]), out]))"
   ]
  },
  {
   "cell_type": "raw",
   "metadata": {},
   "source": [
    "import numpy as np\n",
    "import ipywidgets as widgets\n",
    "from IPython.display import clear_output, display\n",
    "\n",
    "import matplotlib.pyplot as plt\n",
    "from IPython.display import set_matplotlib_formats\n",
    "%matplotlib inline\n",
    "set_matplotlib_formats('svg')\n",
    "\n",
    "np.random.seed(42)"
   ]
  },
  {
   "cell_type": "raw",
   "metadata": {},
   "source": [
    "mu_label = widgets.Label(value=\"Mean:\")\n",
    "mu_var = widgets.BoundedIntText(value=100, min=10, max=300)\n",
    "sigma_label = widgets.Label(value=\"Sigma:\")\n",
    "sigma_var = widgets.BoundedIntText(value=15, min=10, max=50)\n",
    "bins_label = widgets.Label(value=\"Bins:\")\n",
    "bins_var = widgets.IntSlider(value=50, min=1, max=100, step=1)\n",
    "\n",
    "widgets.VBox([mu_label, mu_var, sigma_label, sigma_var, bins_label, bins_var])"
   ]
  },
  {
   "cell_type": "raw",
   "metadata": {},
   "source": [
    "out = widgets.Output()"
   ]
  },
  {
   "cell_type": "raw",
   "metadata": {},
   "source": [
    "def on_value_change(change):\n",
    "    mu = mu_var.value\n",
    "    sigma = sigma_var.value\n",
    "    num_bins = bins_var.value\n",
    "\n",
    "    with out:\n",
    "        fig, ax = plt.subplots()\n",
    "\n",
    "        # the histogram of the data\n",
    "        x = mu + sigma * np.random.randn(437)\n",
    "        n, bins, patches = ax.hist(x, num_bins, density=1)\n",
    "\n",
    "        # add a 'best fit' line\n",
    "        y = ((1 / (np.sqrt(2 * np.pi) * sigma)) * np.exp(-0.5 * (1 / sigma * (bins - mu))**2))\n",
    "        ax.plot(bins, y, '--')\n",
    "        \n",
    "        ax.set_xlabel('X')\n",
    "        ax.set_ylabel('Probability density')\n",
    "        ax.set_title(f'Histogram with: mu={mu}, sigma={sigma}, bins={num_bins}')\n",
    "\n",
    "        clear_output(wait=True)\n",
    "        plt.show(fig)\n",
    "\n",
    "mu_var.observe(on_value_change, names=\"value\")\n",
    "sigma_var.observe(on_value_change, names=\"value\")\n",
    "bins_var.observe(on_value_change, names=\"value\")"
   ]
  },
  {
   "cell_type": "raw",
   "metadata": {},
   "source": [
    "on_value_change(None)\n",
    "out"
   ]
  },
  {
   "cell_type": "raw",
   "metadata": {},
   "source": []
  },
  {
   "cell_type": "raw",
   "metadata": {},
   "source": [
    "import ipympl\n",
    "\n",
    "import numpy as np\n",
    "import matplotlib.pyplot as plt\n",
    "\n",
    "from ipywidgets import widgets\n",
    "from IPython.display import display, clear_output"
   ]
  },
  {
   "cell_type": "raw",
   "metadata": {},
   "source": [
    "from ipywidgets import HBox, VBox, IntSlider, interactive_output, Output\n",
    "from IPython.display import display\n",
    "\n",
    "a_widget = IntSlider(\n",
    "    value=5,\n",
    "    min=0,\n",
    "    max=15,\n",
    "    continuous_update=False\n",
    ")\n",
    "b_widget = IntSlider(\n",
    "    value=5,\n",
    "    min=0,\n",
    "    max=15,\n",
    "    continuous_update=False\n",
    ")\n",
    "\n",
    "output = Output()\n",
    "\n",
    "def update(_):\n",
    "    a, b = a_widget.value, b_widget.value\n",
    "    with output:\n",
    "        fig, ax = plt.subplots()\n",
    "        ax.plot(np.arange(4) + a, np.arange(4) - b)\n",
    "        clear_output()\n",
    "        # display(fig)\n",
    "        plt.show()\n",
    "\n",
    "a_widget.observe(update, names='value')\n",
    "b_widget.observe(update, names='value')\n",
    "\n",
    "display(HBox([VBox([a_widget, b_widget]), output]))\n",
    "# update(None)"
   ]
  },
  {
   "cell_type": "raw",
   "metadata": {},
   "source": [
    "print('2x')"
   ]
  },
  {
   "cell_type": "raw",
   "metadata": {},
   "source": [
    "from ipywidgets import HBox, VBox, IntSlider, interactive_output, Output\n",
    "from IPython.display import display\n",
    "\n",
    "a = IntSlider(continuous_update=False)\n",
    "b = IntSlider(continuous_update=False)\n",
    "\n",
    "output = Output()\n",
    "\n",
    "def f(a, b):\n",
    "    with output:\n",
    "        fig, ax = plt.subplots()\n",
    "        ax.plot(np.arange(4) + a, np.arange(4) - b)\n",
    "        clear_output()\n",
    "        display(fig)\n",
    "\n",
    "out = interactive_output(f, { \"a\": a, \"b\": b})\n",
    "\n",
    "display(HBox([VBox([a, b]), out]))"
   ]
  },
  {
   "cell_type": "raw",
   "metadata": {},
   "source": []
  },
  {
   "cell_type": "raw",
   "metadata": {},
   "source": [
    "import matplotlib.pyplot as plt"
   ]
  },
  {
   "cell_type": "raw",
   "metadata": {},
   "source": [
    "from ipywidgets import HBox, VBox, IntSlider, interactive_output, Output\n",
    "from IPython.display import display\n",
    "\n",
    "a = IntSlider(continuous_update=False)\n",
    "b = IntSlider(continuous_update=False)\n",
    "\n",
    "output = Output()\n",
    "\n",
    "def f(a, b):\n",
    "    with output:\n",
    "        fig, ax = plt.subplots()\n",
    "        ax.plot(np.arange(4) + a, np.arange(4) - b)\n",
    "        clear_output(wait=True)\n",
    "        # display(fig)\n",
    "        plt.show()\n",
    "\n",
    "out = interactive_output(f, { \"a\": a, \"b\": b})\n",
    "\n",
    "display(HBox([VBox([a, b])]))\n",
    "# display(output)"
   ]
  },
  {
   "cell_type": "raw",
   "metadata": {},
   "source": []
  },
  {
   "cell_type": "raw",
   "metadata": {},
   "source": []
  },
  {
   "cell_type": "raw",
   "metadata": {},
   "source": [
    "print('app')"
   ]
  },
  {
   "cell_type": "raw",
   "metadata": {},
   "source": [
    "%matplotlib inline"
   ]
  },
  {
   "cell_type": "raw",
   "metadata": {},
   "source": [
    "import ipywidgets as widgets\n",
    "from IPython.display import display\n",
    "\n",
    "output = widgets.Output()\n",
    "\n",
    "# @output.capture(clear_output=False, wait=True)\n",
    "@output.capture(clear_output=True, wait=True)\n",
    "def sayHello(b):\n",
    "    clear_output(wait=True)\n",
    "    fig, ax = plt.subplots()\n",
    "    ax.plot(np.arange(4) * a_widget.value, np.arange(4))\n",
    "    # plt.show()\n",
    "    display(fig.figure)\n",
    "    \n",
    "a_widget = widgets.IntSlider(\n",
    "    value=2,\n",
    "    min=-5,\n",
    "    max=5,\n",
    "    step=1,\n",
    "    description='a:'\n",
    ")\n",
    "a_widget.observe(sayHello, names='value')\n",
    "\n",
    "run_button = widgets.Button(\n",
    "      description = 'run'\n",
    ")\n",
    "run_button.on_click(sayHello)\n",
    "display(run_button)\n",
    "display(a_widget)\n",
    "output"
   ]
  },
  {
   "cell_type": "raw",
   "metadata": {},
   "source": []
  },
  {
   "cell_type": "raw",
   "metadata": {},
   "source": [
    "# based on https://github.com/jupyter-widgets/ipywidgets/issues/1846 and https://ipywidgets.readthedocs.io/en/latest/examples/Output%20Widget.html"
   ]
  },
  {
   "cell_type": "raw",
   "metadata": {},
   "source": [
    "print('disappears')"
   ]
  },
  {
   "cell_type": "raw",
   "metadata": {},
   "source": [
    "from ipywidgets import HBox, VBox, IntSlider, interactive_output, Output\n",
    "from IPython.display import display\n",
    "\n",
    "a = IntSlider(continuous_update=False)\n",
    "b = IntSlider(continuous_update=False)\n",
    "\n",
    "output = Output()\n",
    "\n",
    "def f(_):\n",
    "    clear_output(wait=True)\n",
    "    with output:\n",
    "        fig, ax = plt.subplots()\n",
    "        ax.plot(np.arange(4) + a.value, np.arange(4) - b.value)\n",
    "        clear_output(wait=True)\n",
    "        display(fig)\n",
    "\n",
    "# out = interactive_output(f, { \"a\": a, \"b\": b})\n",
    "a.observe(f, names='value')\n",
    "b.observe(f, names='value')\n",
    "\n",
    "display(HBox([VBox([a, b]), out]))"
   ]
  },
  {
   "cell_type": "raw",
   "metadata": {},
   "source": [
    "print('works')"
   ]
  },
  {
   "cell_type": "raw",
   "metadata": {},
   "source": [
    "from ipywidgets import HBox, VBox, IntSlider, interactive_output, Output\n",
    "from IPython.display import display\n",
    "\n",
    "a = IntSlider(continuous_update=False)\n",
    "b = IntSlider(continuous_update=False)\n",
    "\n",
    "output = Output()\n",
    "\n",
    "def f(a, b):\n",
    "    clear_output(wait=True)\n",
    "    with output:\n",
    "        fig, ax = plt.subplots()\n",
    "        ax.plot(np.arange(4) + a, np.arange(4) - b)\n",
    "        clear_output(wait=True)\n",
    "        display(fig)\n",
    "\n",
    "out = interactive_output(f, { \"a\": a, \"b\": b})\n",
    "\n",
    "display(HBox([VBox([a, b]), out]))"
   ]
  },
  {
   "cell_type": "raw",
   "metadata": {},
   "source": [
    "xs = np.arange(-4, 5, 0.1)\n",
    "\n",
    "fig, ax = plt.subplots()\n",
    "\n",
    "def update(_):\n",
    "    # clear_output(wait=True)\n",
    "    \n",
    "    a = a_widget.value\n",
    "    b = b_widget.value\n",
    "    c = c_widget.value\n",
    "    \n",
    "    ax.plot(xs, [a*x**2 + b*x + c for x in xs], color='blue')\n",
    "    plt.show()\n",
    "    \n",
    "    \"\"\"out = widgets.Output()\n",
    "    with out:\n",
    "        plt.show(fig.figure)\n",
    "    display(widgets.VBox([a_widget, b_widget, c_widget, out]))\"\"\"\n",
    "    # plt.show(fig.figure)\n",
    "    # display(widgets.VBox([a_widget, b_widget, c_widget]))\n",
    "    \n",
    "\n",
    "a_widget = widgets.IntSlider(\n",
    "    value=2,\n",
    "    min=-5,\n",
    "    max=5,\n",
    "    step=1,\n",
    "    description='a:'\n",
    ")\n",
    "b_widget = widgets.IntSlider(\n",
    "    value=2,\n",
    "    min=-5,\n",
    "    max=5,\n",
    "    step=1,\n",
    "    description='b:'\n",
    ")\n",
    "c_widget = widgets.IntSlider(\n",
    "    value=2,\n",
    "    min=-5,\n",
    "    max=5,\n",
    "    step=1,\n",
    "    description='c:'\n",
    ")\n",
    "for widget in [a_widget, b_widget, c_widget]:\n",
    "    widget.observe(update, names='value')\n",
    "\n",
    "update(None)\n",
    "display(widgets.VBox([a_widget, b_widget, c_widget]))"
   ]
  },
  {
   "cell_type": "raw",
   "metadata": {},
   "source": [
    "import ipywidgets as widgets\n",
    "from IPython.display import display\n",
    "\n",
    "output = widgets.Output()\n",
    "\n",
    "# @output.capture(clear_output=False, wait=True)\n",
    "@output.capture(clear_output=True, wait=True)\n",
    "def sayHello(b):\n",
    "    # clear_output(wait=True)\n",
    "    fig, ax = plt.subplots()\n",
    "    ax.plot(np.arange(4), np.arange(4))\n",
    "    plt.show()\n",
    "\n",
    "run_button = widgets.Button(\n",
    "      description = 'run'\n",
    ")\n",
    "run_button.on_click(sayHello)\n",
    "display(run_button)\n",
    "output"
   ]
  }
 ],
 "metadata": {
  "kernelspec": {
   "display_name": "jpack",
   "language": "python",
   "name": "jpack"
  },
  "language_info": {
   "codemirror_mode": {
    "name": "ipython",
    "version": 3
   },
   "file_extension": ".py",
   "mimetype": "text/x-python",
   "name": "python",
   "nbconvert_exporter": "python",
   "pygments_lexer": "ipython3",
   "version": "3.8.5"
  }
 },
 "nbformat": 4,
 "nbformat_minor": 4
}

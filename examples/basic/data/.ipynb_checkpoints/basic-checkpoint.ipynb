{
 "cells": [
  {
   "cell_type": "code",
   "execution_count": 1,
   "metadata": {
    "tags": [
     "parameters"
    ]
   },
   "outputs": [],
   "source": [
    "flex_title = \"Basic example\""
   ]
  },
  {
   "cell_type": "code",
   "execution_count": 1,
   "metadata": {},
   "outputs": [],
   "source": [
    "import numpy as np\n",
    "import matplotlib.pyplot as plt\n",
    "\n",
    "from ipywidgets import HBox, VBox, IntSlider, interactive_output, Output, Label\n",
    "from IPython.display import display, clear_output, set_matplotlib_formats\n",
    "\n",
    "set_matplotlib_formats('svg')"
   ]
  },
  {
   "cell_type": "code",
   "execution_count": 7,
   "metadata": {},
   "outputs": [],
   "source": [
    "xs = np.arange(-4, 4.1, 0.1)\n",
    "\n",
    "a_widget = IntSlider(min=-5, max=5, value=2, continuous_update=False)\n",
    "b_widget = IntSlider(min=-5, max=5, value=-1, continuous_update=False)\n",
    "\n",
    "def update(a, b):\n",
    "    clear_output(wait=True)\n",
    "    fig, ax = plt.subplots()\n",
    "    ax.plot(xs, [a*x**2 + b*x for x in xs])\n",
    "    ax.set_xlabel('x')\n",
    "    ax.set_ylabel('y')\n",
    "    ax.set_title(f'$y = {a} \\cdot x^2 + {b} \\cdot x$')\n",
    "\n",
    "out = interactive_output(update, {'a': a_widget, 'b': b_widget})"
   ]
  },
  {
   "cell_type": "markdown",
   "metadata": {
    "tags": [
     "size=150"
    ]
   },
   "source": [
    "## Sidebar"
   ]
  },
  {
   "cell_type": "markdown",
   "metadata": {},
   "source": [
    "### Controls"
   ]
  },
  {
   "cell_type": "code",
   "execution_count": 8,
   "metadata": {
    "tags": [
     "body"
    ]
   },
   "outputs": [
    {
     "data": {
      "application/vnd.jupyter.widget-view+json": {
       "model_id": "c173f0e926b64391847c2113775a9661",
       "version_major": 2,
       "version_minor": 0
      },
      "text/plain": [
       "VBox(children=(Label(value='Parameter a:'), IntSlider(value=2, continuous_update=False, max=5, min=-5), Label(…"
      ]
     },
     "metadata": {},
     "output_type": "display_data"
    }
   ],
   "source": [
    "VBox([Label(value='Parameter a:'), a_widget, Label(value='Parameter b:'), b_widget])"
   ]
  },
  {
   "cell_type": "markdown",
   "metadata": {},
   "source": [
    "## Column"
   ]
  },
  {
   "cell_type": "markdown",
   "metadata": {},
   "source": [
    "### Output"
   ]
  },
  {
   "cell_type": "code",
   "execution_count": 9,
   "metadata": {
    "tags": [
     "body"
    ]
   },
   "outputs": [
    {
     "data": {
      "application/vnd.jupyter.widget-view+json": {
       "model_id": "4599a1db7e364212a99a20c237176171",
       "version_major": 2,
       "version_minor": 0
      },
      "text/plain": [
       "Output(outputs=({'output_type': 'display_data', 'data': {'text/plain': '<Figure size 432x288 with 1 Axes>', 'i…"
      ]
     },
     "metadata": {},
     "output_type": "display_data"
    }
   ],
   "source": [
    "out"
   ]
  }
 ],
 "metadata": {
  "celltoolbar": "Tags",
  "kernelspec": {
   "display_name": "jpack",
   "language": "python",
   "name": "jpack"
  },
  "language_info": {
   "codemirror_mode": {
    "name": "ipython",
    "version": 3
   },
   "file_extension": ".py",
   "mimetype": "text/x-python",
   "name": "python",
   "nbconvert_exporter": "python",
   "pygments_lexer": "ipython3",
   "version": "3.8.5"
  }
 },
 "nbformat": 4,
 "nbformat_minor": 4
}
